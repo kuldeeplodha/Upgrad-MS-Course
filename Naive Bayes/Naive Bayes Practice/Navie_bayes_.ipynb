{
 "cells": [
  {
   "cell_type": "markdown",
   "metadata": {
    "id": "WQNd3nFKSAUC"
   },
   "source": [
    "## Multinomial and Bernoulli Naive Bayes"
   ]
  },
  {
   "cell_type": "markdown",
   "metadata": {
    "id": "K1-WTG8LSAUG"
   },
   "source": [
    "For understanding Multinomial and Bernoulli Naive Bayes, we will start with a small example and understand the end to end process. In another notebook, we will build a full-fledged email spam classifier.\n",
    "\n",
    "To start with, let's take a few sentences and classify them in two different classes - *education* or *cinema*. Each sentence will represent one document. In real-world cases, a document be any piece of text such as an email, a news article, a book review, a tweet etc.\n",
    "The analysis and the algorithm involved doesn’t depend on the type of document we use."
   ]
  },
  {
   "cell_type": "markdown",
   "metadata": {
    "id": "otj-Wh-uSAUH"
   },
   "source": [
    "The notebook is divided into the following sections:\n",
    "1. Importing and preprocessing data\n",
    "2. Building the model: Multinomial Naive Bayes\n",
    "3. Building the model: Bernoulli Naive Bayes"
   ]
  },
  {
   "cell_type": "markdown",
   "metadata": {
    "id": "hSQI32f7SAUI"
   },
   "source": [
    "### 1. Importing and Preprocessing Data\n",
    "\n",
    "Let us first look at the sentences and their classes. We have kept the training sentences in file example_train.csv. Test sentences have been put in the file example_test.csv."
   ]
  },
  {
   "cell_type": "code",
   "execution_count": 1,
   "metadata": {
    "id": "iPxU2VI0QfKD"
   },
   "outputs": [],
   "source": [
    "import pandas as pd"
   ]
  },
  {
   "cell_type": "code",
   "execution_count": 2,
   "metadata": {
    "id": "OT-HcAvuROdU"
   },
   "outputs": [],
   "source": [
    "# Read Both the files ...\n",
    "\n",
    "train_data = pd.read_csv('example_train.csv')\n",
    "test_data = pd.read_csv('example_test.csv')"
   ]
  },
  {
   "cell_type": "code",
   "execution_count": 3,
   "metadata": {
    "colab": {
     "base_uri": "https://localhost:8080/",
     "height": 206
    },
    "id": "p5KN_zkkRaNn",
    "outputId": "b72758ec-cd05-4d54-d5f2-6cf82381c86d"
   },
   "outputs": [
    {
     "data": {
      "text/html": [
       "<div>\n",
       "<style scoped>\n",
       "    .dataframe tbody tr th:only-of-type {\n",
       "        vertical-align: middle;\n",
       "    }\n",
       "\n",
       "    .dataframe tbody tr th {\n",
       "        vertical-align: top;\n",
       "    }\n",
       "\n",
       "    .dataframe thead th {\n",
       "        text-align: right;\n",
       "    }\n",
       "</style>\n",
       "<table border=\"1\" class=\"dataframe\">\n",
       "  <thead>\n",
       "    <tr style=\"text-align: right;\">\n",
       "      <th></th>\n",
       "      <th>Document</th>\n",
       "      <th>Class</th>\n",
       "    </tr>\n",
       "  </thead>\n",
       "  <tbody>\n",
       "    <tr>\n",
       "      <th>0</th>\n",
       "      <td>Upgrad is a great educational institution.</td>\n",
       "      <td>education</td>\n",
       "    </tr>\n",
       "    <tr>\n",
       "      <th>1</th>\n",
       "      <td>Educational greatness depends on ethics</td>\n",
       "      <td>education</td>\n",
       "    </tr>\n",
       "    <tr>\n",
       "      <th>2</th>\n",
       "      <td>A story of great ethics and educational greatness</td>\n",
       "      <td>education</td>\n",
       "    </tr>\n",
       "    <tr>\n",
       "      <th>3</th>\n",
       "      <td>Sholey is a great cinema</td>\n",
       "      <td>cinema</td>\n",
       "    </tr>\n",
       "    <tr>\n",
       "      <th>4</th>\n",
       "      <td>good movie depends on good story</td>\n",
       "      <td>cinema</td>\n",
       "    </tr>\n",
       "  </tbody>\n",
       "</table>\n",
       "</div>"
      ],
      "text/plain": [
       "                                            Document      Class\n",
       "0         Upgrad is a great educational institution.  education\n",
       "1            Educational greatness depends on ethics  education\n",
       "2  A story of great ethics and educational greatness  education\n",
       "3                           Sholey is a great cinema     cinema\n",
       "4                   good movie depends on good story     cinema"
      ]
     },
     "execution_count": 3,
     "metadata": {},
     "output_type": "execute_result"
    }
   ],
   "source": [
    "train_data"
   ]
  },
  {
   "cell_type": "code",
   "execution_count": 4,
   "metadata": {
    "id": "PS3C8P7DSKcB"
   },
   "outputs": [],
   "source": [
    "train_data['Class'] = train_data.Class.map({'cinema':0, 'education':1})"
   ]
  },
  {
   "cell_type": "code",
   "execution_count": 5,
   "metadata": {
    "colab": {
     "base_uri": "https://localhost:8080/"
    },
    "id": "ShOfcXJRSbCF",
    "outputId": "71520b8e-4acf-4e47-a80e-0e2633f79c40"
   },
   "outputs": [
    {
     "data": {
      "text/plain": [
       "(5, 2)"
      ]
     },
     "execution_count": 5,
     "metadata": {},
     "output_type": "execute_result"
    }
   ],
   "source": [
    "train_data.shape"
   ]
  },
  {
   "cell_type": "markdown",
   "metadata": {
    "id": "f8YSdaS7SqZQ"
   },
   "source": [
    "### Now lets convert this train_data to array because when we work with multinomial equations we have to pass the data in the array form."
   ]
  },
  {
   "cell_type": "code",
   "execution_count": 6,
   "metadata": {
    "id": "ClZHbmlqSgYq"
   },
   "outputs": [],
   "source": [
    "train_array = train_data.values"
   ]
  },
  {
   "cell_type": "code",
   "execution_count": 7,
   "metadata": {
    "colab": {
     "base_uri": "https://localhost:8080/"
    },
    "id": "wa0XW1LhTJ_u",
    "outputId": "1a64eed0-1816-458a-ed6e-e447facfca9d"
   },
   "outputs": [
    {
     "data": {
      "text/plain": [
       "array([['Upgrad is a great educational institution.', 1],\n",
       "       ['Educational greatness depends on ethics', 1],\n",
       "       ['A story of great ethics and educational greatness', 1],\n",
       "       ['Sholey is a great cinema', 0],\n",
       "       ['good movie depends on good story', 0]], dtype=object)"
      ]
     },
     "execution_count": 7,
     "metadata": {},
     "output_type": "execute_result"
    }
   ],
   "source": [
    "train_array"
   ]
  },
  {
   "cell_type": "code",
   "execution_count": 8,
   "metadata": {
    "id": "HwKRWoUsS8wM"
   },
   "outputs": [],
   "source": [
    "# Now we spliting data into X_train and y_train\n",
    "X_train = train_array[:, 0]\n",
    "y_train = train_array[:, 1]\n",
    "y_train = y_train.astype('int')"
   ]
  },
  {
   "cell_type": "markdown",
   "metadata": {
    "id": "zHm1XSwbSAUP"
   },
   "source": [
    "### Creating the Bag of Words Representation\n",
    "\n",
    "We now have to convert the data into a format which can be used for training the model. We'll use the **bag of words representation** for each sentence (document).\n",
    "\n",
    "Imagine breaking X in individual words and putting them all in a bag. Then we pick all the unique words from the bag one by one and make a dictionary of unique words.\n",
    "\n",
    "This is called **vectorization of words**. We have the class ```CountVectorizer()``` in scikit learn to vectorize the words.\n"
   ]
  },
  {
   "cell_type": "code",
   "execution_count": 9,
   "metadata": {
    "id": "Y5ipoqfKTfTm"
   },
   "outputs": [],
   "source": [
    "from sklearn.feature_extraction.text import CountVectorizer"
   ]
  },
  {
   "cell_type": "code",
   "execution_count": 10,
   "metadata": {
    "id": "00eTz2BkUxkK"
   },
   "outputs": [],
   "source": [
    "vec = CountVectorizer()"
   ]
  },
  {
   "cell_type": "markdown",
   "metadata": {
    "id": "Qt9EBRmzSAUR"
   },
   "source": [
    "Here ```vec``` is an object of class ```CountVectorizer()```. This has a method called  ```fit()``` which converts a corpus of documents to a matrix of 'tokens'."
   ]
  },
  {
   "cell_type": "code",
   "execution_count": 11,
   "metadata": {
    "colab": {
     "base_uri": "https://localhost:8080/"
    },
    "id": "BD5UFUnQU2aF",
    "outputId": "7e50a68d-80d9-4ad9-af4a-a903522bcbee"
   },
   "outputs": [
    {
     "data": {
      "text/plain": [
       "{'upgrad': 15,\n",
       " 'is': 9,\n",
       " 'great': 6,\n",
       " 'educational': 3,\n",
       " 'institution': 8,\n",
       " 'greatness': 7,\n",
       " 'depends': 2,\n",
       " 'on': 12,\n",
       " 'ethics': 4,\n",
       " 'story': 14,\n",
       " 'of': 11,\n",
       " 'and': 0,\n",
       " 'sholey': 13,\n",
       " 'cinema': 1,\n",
       " 'good': 5,\n",
       " 'movie': 10}"
      ]
     },
     "execution_count": 11,
     "metadata": {},
     "output_type": "execute_result"
    }
   ],
   "source": [
    "vec.fit(X_train)\n",
    "vec.vocabulary_"
   ]
  },
  {
   "cell_type": "markdown",
   "metadata": {
    "id": "QpOaSr_VSAUR"
   },
   "source": [
    "```Countvectorizer()``` has converted the documents into a set of unique words alphabetically sorted and indexed.\n",
    "\n",
    "\n",
    "**Stop Words**\n",
    "\n",
    "We can see a few trivial words such as  'and','is','of', etc. These words don't really make any difference in classyfying a document. These are called **stop words**. So we would like to get rid of them.\n",
    "\n",
    "We can remove them by passing a parameter stop_words='english' while instantiating ```Countvectorizer()``` as follows:"
   ]
  },
  {
   "cell_type": "code",
   "execution_count": 12,
   "metadata": {
    "colab": {
     "base_uri": "https://localhost:8080/"
    },
    "id": "sqWPLWasU6gR",
    "outputId": "1e0bb89e-d801-4591-fd7d-dcfe9713b88d"
   },
   "outputs": [
    {
     "data": {
      "text/plain": [
       "{'upgrad': 11,\n",
       " 'great': 5,\n",
       " 'educational': 2,\n",
       " 'institution': 7,\n",
       " 'greatness': 6,\n",
       " 'depends': 1,\n",
       " 'ethics': 3,\n",
       " 'story': 10,\n",
       " 'sholey': 9,\n",
       " 'cinema': 0,\n",
       " 'good': 4,\n",
       " 'movie': 8}"
      ]
     },
     "execution_count": 12,
     "metadata": {},
     "output_type": "execute_result"
    }
   ],
   "source": [
    "# Now lets create another object and fit the model again.\n",
    "vec = CountVectorizer(stop_words='english')\n",
    "vec.fit(X_train)\n",
    "vec.vocabulary_"
   ]
  },
  {
   "cell_type": "markdown",
   "metadata": {
    "id": "vE1vWudKSAUS"
   },
   "source": [
    "Notice that the vocabulary has reduced to 12 from 15. Another way of printing the 'vocabulary' is as follows:"
   ]
  },
  {
   "cell_type": "markdown",
   "metadata": {
    "id": "yO3f70J8jyjL"
   },
   "source": [
    "Notice that the vocabulary has reduced to 12 from 15. Another way of printing the 'vocabulary' is as follows:"
   ]
  },
  {
   "cell_type": "code",
   "execution_count": 13,
   "metadata": {
    "colab": {
     "base_uri": "https://localhost:8080/"
    },
    "id": "mRCJkJRpSAUS",
    "outputId": "68610738-c75f-427f-ce04-c3a98ffc3d68"
   },
   "outputs": [
    {
     "name": "stdout",
     "output_type": "stream",
     "text": [
      "['cinema', 'depends', 'educational', 'ethics', 'good', 'great', 'greatness', 'institution', 'movie', 'sholey', 'story', 'upgrad']\n",
      "12\n"
     ]
    }
   ],
   "source": [
    "# printing feature names\n",
    "print(vec.get_feature_names())\n",
    "print(len(vec.get_feature_names()))"
   ]
  },
  {
   "cell_type": "code",
   "execution_count": 14,
   "metadata": {
    "colab": {
     "base_uri": "https://localhost:8080/"
    },
    "id": "14eJOefSU_cq",
    "outputId": "b035df0b-24ee-411b-adb5-cc321b9a973f"
   },
   "outputs": [
    {
     "data": {
      "text/plain": [
       "<5x12 sparse matrix of type '<class 'numpy.int64'>'\n",
       "\twith 20 stored elements in Compressed Sparse Row format>"
      ]
     },
     "execution_count": 14,
     "metadata": {},
     "output_type": "execute_result"
    }
   ],
   "source": [
    "# Lets print the features of the vectore\n",
    "X_transformed = vec.transform(X_train)\n",
    "X_transformed"
   ]
  },
  {
   "cell_type": "markdown",
   "metadata": {
    "id": "VO_ZVC0JSAUT"
   },
   "source": [
    "So our final dictionary is made of 12 words (after discarding the stop words). Now, to do classification, we need to represent all the documents with these words (or tokens) as features.\n",
    "\n",
    "Every document will be converted into a *feature vector* representing presence of these words in that document. Let's convert each of our training documents in to a feature vector."
   ]
  },
  {
   "cell_type": "markdown",
   "metadata": {
    "id": "0Pdz4tJdSAUT"
   },
   "source": [
    "You can see X_tranformed is a 5 x 12 **sparse matrix**. It has 5 rows for each of our 5 documents and 12 columns each\n",
    "for one word of the dictionary which we just created. Let us print X_transformed."
   ]
  },
  {
   "cell_type": "code",
   "execution_count": 15,
   "metadata": {
    "colab": {
     "base_uri": "https://localhost:8080/"
    },
    "id": "XqBGyupAh_KY",
    "outputId": "e64e209a-9953-4d9e-d21e-3e62b766e18e"
   },
   "outputs": [
    {
     "name": "stdout",
     "output_type": "stream",
     "text": [
      "  (0, 2)\t1\n",
      "  (0, 5)\t1\n",
      "  (0, 7)\t1\n",
      "  (0, 11)\t1\n",
      "  (1, 1)\t1\n",
      "  (1, 2)\t1\n",
      "  (1, 3)\t1\n",
      "  (1, 6)\t1\n",
      "  (2, 2)\t1\n",
      "  (2, 3)\t1\n",
      "  (2, 5)\t1\n",
      "  (2, 6)\t1\n",
      "  (2, 10)\t1\n",
      "  (3, 0)\t1\n",
      "  (3, 5)\t1\n",
      "  (3, 9)\t1\n",
      "  (4, 1)\t1\n",
      "  (4, 4)\t2\n",
      "  (4, 8)\t1\n",
      "  (4, 10)\t1\n"
     ]
    }
   ],
   "source": [
    "print(X_transformed)"
   ]
  },
  {
   "cell_type": "markdown",
   "metadata": {
    "id": "scTs3EJASAUU"
   },
   "source": [
    "This representation can be understood as follows:\n",
    "\n",
    "Consider first 4 rows of the output: (0,2), (0,5), (0,7) and (0,11). It says that the first document (index 0) has\n",
    "7th , 2nd , 5th and 11th 'word' present in the document, and that they appear only\n",
    "once in the document- indicated by the right hand column entry.\n",
    "\n",
    "Similarly, consider the entry (4,4) (third from bottom). It says that the fifth document has the fifth word present twice. Indeed, the 5th word('good') appears twice in the 5th document.\n",
    "\n",
    "In real problems, you often work with large documents and vocabularies, and each document contains only a few words in the vocabulary. So it would be a waste of space to store the vocabulary in a typical dataframe, since most entries would be zero. Also, matrix products, additions etc. are much faster with sparse matrices. That's why we use sparse matrices to store the data.\n",
    "\n",
    "\n",
    "Let us convert this sparse matrix into a more easily interpretable array:"
   ]
  },
  {
   "cell_type": "markdown",
   "metadata": {
    "id": "v5ZrS1HBimUQ"
   },
   "source": [
    "Lets Print the Reguler venila representation of the X_transformed Array."
   ]
  },
  {
   "cell_type": "code",
   "execution_count": 16,
   "metadata": {
    "colab": {
     "base_uri": "https://localhost:8080/"
    },
    "id": "5334vD6Gi0MA",
    "outputId": "ef5833c1-c130-42eb-b28d-7e90bf663948"
   },
   "outputs": [
    {
     "data": {
      "text/plain": [
       "array([[0, 0, 1, 0, 0, 1, 0, 1, 0, 0, 0, 1],\n",
       "       [0, 1, 1, 1, 0, 0, 1, 0, 0, 0, 0, 0],\n",
       "       [0, 0, 1, 1, 0, 1, 1, 0, 0, 0, 1, 0],\n",
       "       [1, 0, 0, 0, 0, 1, 0, 0, 0, 1, 0, 0],\n",
       "       [0, 1, 0, 0, 2, 0, 0, 0, 1, 0, 1, 0]], dtype=int64)"
      ]
     },
     "execution_count": 16,
     "metadata": {},
     "output_type": "execute_result"
    }
   ],
   "source": [
    "X_transformed.toarray()"
   ]
  },
  {
   "cell_type": "markdown",
   "metadata": {
    "id": "OfWoHchoSAUV"
   },
   "source": [
    "To make the dataset more readable, let us examine the vocabulary and the document-term matrix together in a pandas dataframe. The way to convert a matrix into a dataframe is ```pd.DataFrame(matrix, columns=columns)```.\n"
   ]
  },
  {
   "cell_type": "markdown",
   "metadata": {
    "id": "PPwLFCcdjSdh"
   },
   "source": [
    "### Let's create a data using the X_transformed."
   ]
  },
  {
   "cell_type": "code",
   "execution_count": 17,
   "metadata": {
    "colab": {
     "base_uri": "https://localhost:8080/",
     "height": 206
    },
    "id": "fbk8_MOEjSK1",
    "outputId": "a147cec7-9d17-439c-865b-e99b8aedb422"
   },
   "outputs": [
    {
     "data": {
      "text/html": [
       "<div>\n",
       "<style scoped>\n",
       "    .dataframe tbody tr th:only-of-type {\n",
       "        vertical-align: middle;\n",
       "    }\n",
       "\n",
       "    .dataframe tbody tr th {\n",
       "        vertical-align: top;\n",
       "    }\n",
       "\n",
       "    .dataframe thead th {\n",
       "        text-align: right;\n",
       "    }\n",
       "</style>\n",
       "<table border=\"1\" class=\"dataframe\">\n",
       "  <thead>\n",
       "    <tr style=\"text-align: right;\">\n",
       "      <th></th>\n",
       "      <th>cinema</th>\n",
       "      <th>depends</th>\n",
       "      <th>educational</th>\n",
       "      <th>ethics</th>\n",
       "      <th>good</th>\n",
       "      <th>great</th>\n",
       "      <th>greatness</th>\n",
       "      <th>institution</th>\n",
       "      <th>movie</th>\n",
       "      <th>sholey</th>\n",
       "      <th>story</th>\n",
       "      <th>upgrad</th>\n",
       "    </tr>\n",
       "  </thead>\n",
       "  <tbody>\n",
       "    <tr>\n",
       "      <th>0</th>\n",
       "      <td>0</td>\n",
       "      <td>0</td>\n",
       "      <td>1</td>\n",
       "      <td>0</td>\n",
       "      <td>0</td>\n",
       "      <td>1</td>\n",
       "      <td>0</td>\n",
       "      <td>1</td>\n",
       "      <td>0</td>\n",
       "      <td>0</td>\n",
       "      <td>0</td>\n",
       "      <td>1</td>\n",
       "    </tr>\n",
       "    <tr>\n",
       "      <th>1</th>\n",
       "      <td>0</td>\n",
       "      <td>1</td>\n",
       "      <td>1</td>\n",
       "      <td>1</td>\n",
       "      <td>0</td>\n",
       "      <td>0</td>\n",
       "      <td>1</td>\n",
       "      <td>0</td>\n",
       "      <td>0</td>\n",
       "      <td>0</td>\n",
       "      <td>0</td>\n",
       "      <td>0</td>\n",
       "    </tr>\n",
       "    <tr>\n",
       "      <th>2</th>\n",
       "      <td>0</td>\n",
       "      <td>0</td>\n",
       "      <td>1</td>\n",
       "      <td>1</td>\n",
       "      <td>0</td>\n",
       "      <td>1</td>\n",
       "      <td>1</td>\n",
       "      <td>0</td>\n",
       "      <td>0</td>\n",
       "      <td>0</td>\n",
       "      <td>1</td>\n",
       "      <td>0</td>\n",
       "    </tr>\n",
       "    <tr>\n",
       "      <th>3</th>\n",
       "      <td>1</td>\n",
       "      <td>0</td>\n",
       "      <td>0</td>\n",
       "      <td>0</td>\n",
       "      <td>0</td>\n",
       "      <td>1</td>\n",
       "      <td>0</td>\n",
       "      <td>0</td>\n",
       "      <td>0</td>\n",
       "      <td>1</td>\n",
       "      <td>0</td>\n",
       "      <td>0</td>\n",
       "    </tr>\n",
       "    <tr>\n",
       "      <th>4</th>\n",
       "      <td>0</td>\n",
       "      <td>1</td>\n",
       "      <td>0</td>\n",
       "      <td>0</td>\n",
       "      <td>2</td>\n",
       "      <td>0</td>\n",
       "      <td>0</td>\n",
       "      <td>0</td>\n",
       "      <td>1</td>\n",
       "      <td>0</td>\n",
       "      <td>1</td>\n",
       "      <td>0</td>\n",
       "    </tr>\n",
       "  </tbody>\n",
       "</table>\n",
       "</div>"
      ],
      "text/plain": [
       "   cinema  depends  educational  ethics  good  great  greatness  institution  \\\n",
       "0       0        0            1       0     0      1          0            1   \n",
       "1       0        1            1       1     0      0          1            0   \n",
       "2       0        0            1       1     0      1          1            0   \n",
       "3       1        0            0       0     0      1          0            0   \n",
       "4       0        1            0       0     2      0          0            0   \n",
       "\n",
       "   movie  sholey  story  upgrad  \n",
       "0      0       0      0       1  \n",
       "1      0       0      0       0  \n",
       "2      0       0      1       0  \n",
       "3      0       1      0       0  \n",
       "4      1       0      1       0  "
      ]
     },
     "execution_count": 17,
     "metadata": {},
     "output_type": "execute_result"
    }
   ],
   "source": [
    "pd.DataFrame(X_transformed.toarray(), columns = vec.get_feature_names())"
   ]
  },
  {
   "cell_type": "markdown",
   "metadata": {
    "id": "JZSRVnFkdxO3"
   },
   "source": [
    "This table shows how many times a particular word occurs in document. In other words, this is a frequency table of the words."
   ]
  },
  {
   "cell_type": "markdown",
   "metadata": {
    "id": "KTuHhL9LdxO3"
   },
   "source": [
    "A corpus of documents can thus be represented by a matrix with one row per document and one column per\n",
    "token (e.g. word) occurring in the corpus."
   ]
  },
  {
   "cell_type": "markdown",
   "metadata": {
    "id": "JPf0bliCdxO3"
   },
   "source": [
    "Let's now import and transform the test data as well."
   ]
  },
  {
   "cell_type": "code",
   "execution_count": 18,
   "metadata": {
    "id": "DgSDdZBKjQ-C"
   },
   "outputs": [
    {
     "data": {
      "text/plain": [
       "(1, 2)"
      ]
     },
     "execution_count": 18,
     "metadata": {},
     "output_type": "execute_result"
    }
   ],
   "source": [
    "test_data.shape"
   ]
  },
  {
   "cell_type": "code",
   "execution_count": 19,
   "metadata": {},
   "outputs": [],
   "source": [
    "# Convert label to a numerical variable\n",
    "\n",
    "test_data['Class'] = test_data.Class.map({'cinema':0, 'education':1})"
   ]
  },
  {
   "cell_type": "code",
   "execution_count": 20,
   "metadata": {},
   "outputs": [
    {
     "data": {
      "text/html": [
       "<div>\n",
       "<style scoped>\n",
       "    .dataframe tbody tr th:only-of-type {\n",
       "        vertical-align: middle;\n",
       "    }\n",
       "\n",
       "    .dataframe tbody tr th {\n",
       "        vertical-align: top;\n",
       "    }\n",
       "\n",
       "    .dataframe thead th {\n",
       "        text-align: right;\n",
       "    }\n",
       "</style>\n",
       "<table border=\"1\" class=\"dataframe\">\n",
       "  <thead>\n",
       "    <tr style=\"text-align: right;\">\n",
       "      <th></th>\n",
       "      <th>Document</th>\n",
       "      <th>Class</th>\n",
       "    </tr>\n",
       "  </thead>\n",
       "  <tbody>\n",
       "    <tr>\n",
       "      <th>0</th>\n",
       "      <td>very good educational institution</td>\n",
       "      <td>1</td>\n",
       "    </tr>\n",
       "  </tbody>\n",
       "</table>\n",
       "</div>"
      ],
      "text/plain": [
       "                            Document  Class\n",
       "0  very good educational institution      1"
      ]
     },
     "execution_count": 20,
     "metadata": {},
     "output_type": "execute_result"
    }
   ],
   "source": [
    "test_data"
   ]
  },
  {
   "cell_type": "code",
   "execution_count": 21,
   "metadata": {},
   "outputs": [],
   "source": [
    "# Lets create numpy array of the test data\n",
    "test_array = test_data.values"
   ]
  },
  {
   "cell_type": "code",
   "execution_count": 22,
   "metadata": {},
   "outputs": [],
   "source": [
    "# Lets Split the array data into X_test and y_test.\n",
    "X_test = test_array[:, 0]\n",
    "y_test = test_array[:, 1]\n",
    "y_test = y_test.astype('int')"
   ]
  },
  {
   "cell_type": "code",
   "execution_count": 23,
   "metadata": {},
   "outputs": [
    {
     "data": {
      "text/plain": [
       "array(['very good educational institution'], dtype=object)"
      ]
     },
     "execution_count": 23,
     "metadata": {},
     "output_type": "execute_result"
    }
   ],
   "source": [
    "X_test"
   ]
  },
  {
   "cell_type": "code",
   "execution_count": 24,
   "metadata": {},
   "outputs": [
    {
     "data": {
      "text/plain": [
       "<1x12 sparse matrix of type '<class 'numpy.int64'>'\n",
       "\twith 3 stored elements in Compressed Sparse Row format>"
      ]
     },
     "execution_count": 24,
     "metadata": {},
     "output_type": "execute_result"
    }
   ],
   "source": [
    "# transform the test data\n",
    "# note that you *never* fit on test data, only on training data\n",
    "# and only transform the test data\n",
    "X_test_transformed = vec.transform(X_test)\n",
    "X_test_transformed"
   ]
  },
  {
   "cell_type": "code",
   "execution_count": 25,
   "metadata": {},
   "outputs": [
    {
     "name": "stdout",
     "output_type": "stream",
     "text": [
      "  (0, 2)\t1\n",
      "  (0, 4)\t1\n",
      "  (0, 7)\t1\n"
     ]
    }
   ],
   "source": [
    "print(X_test_transformed)"
   ]
  },
  {
   "cell_type": "code",
   "execution_count": 26,
   "metadata": {},
   "outputs": [],
   "source": [
    "X_test = X_test_transformed.toarray()"
   ]
  },
  {
   "cell_type": "markdown",
   "metadata": {
    "id": "S2edgV7XdxO4"
   },
   "source": [
    "Let us summarise all we have done till now:\n",
    "\n",
    "- ```vect.fit(train)``` learns the vocabulary of the training data\n",
    "- ```vect.transform(train)``` uses the fitted vocabulary to build a document-term matrix from the training data\n",
    "- ```vect.transform(test)``` uses the fitted vocabulary to build a document-term matrix from the testing data (and ignores tokens it hasn't seen before)"
   ]
  },
  {
   "cell_type": "markdown",
   "metadata": {
    "id": "hYXKDBDQdxO4"
   },
   "source": [
    "### 2. Building the Model: Multinomial Naive Bayes"
   ]
  },
  {
   "cell_type": "code",
   "execution_count": 27,
   "metadata": {},
   "outputs": [],
   "source": [
    "# Import the model class from the sklearn module\n",
    "\n",
    "from sklearn.naive_bayes import MultinomialNB\n",
    "\n",
    "# Instantiating bernoulli NB class\n",
    "\n",
    "mnb = MultinomialNB()\n",
    "\n",
    "# Lets fit the model oon the X_transformed and y_train\n",
    "mnb.fit(X_transformed, y_train)\n",
    "\n",
    "# Let's predict the results...\n",
    "\n",
    "proba = mnb.predict_proba(X_test)"
   ]
  },
  {
   "cell_type": "code",
   "execution_count": 28,
   "metadata": {},
   "outputs": [
    {
     "name": "stdout",
     "output_type": "stream",
     "text": [
      "probability of test document belonging to class CINEMA [0.32808399]\n",
      "probability of test document belonging to class EDUCATION [0.67191601]\n"
     ]
    }
   ],
   "source": [
    "# probability of each class (test data)\n",
    "print(\"probability of test document belonging to class CINEMA\" , proba[:,0])\n",
    "print(\"probability of test document belonging to class EDUCATION\" , proba[:,1])"
   ]
  },
  {
   "cell_type": "markdown",
   "metadata": {
    "id": "2nxTMqKPdxO5"
   },
   "source": [
    "### 3. Building the Model: Bernoulli Naive Bayes"
   ]
  },
  {
   "cell_type": "code",
   "execution_count": 29,
   "metadata": {},
   "outputs": [],
   "source": [
    "# Import the model class from the sklearn module\n",
    "\n",
    "from sklearn.naive_bayes import BernoulliNB\n",
    "\n",
    "# Instantiating bernoulli NB class\n",
    "\n",
    "bnb = BernoulliNB()\n",
    "\n",
    "# Lets fit the model oon the X_transformed and y_train\n",
    "bnb.fit(X_transformed, y_train)\n",
    "\n",
    "# Let's predict the results...\n",
    "\n",
    "proba = bnb.predict_proba(X_test)"
   ]
  },
  {
   "cell_type": "code",
   "execution_count": 30,
   "metadata": {},
   "outputs": [
    {
     "name": "stdout",
     "output_type": "stream",
     "text": [
      "probability of test document belonging to class CINEMA [0.2326374]\n",
      "probability of test document belonging to class EDUCATION [0.7673626]\n"
     ]
    }
   ],
   "source": [
    "# probability of each class (test data)\n",
    "print(\"probability of test document belonging to class CINEMA\" , proba[:,0])\n",
    "print(\"probability of test document belonging to class EDUCATION\" , proba[:,1])"
   ]
  },
  {
   "cell_type": "code",
   "execution_count": null,
   "metadata": {},
   "outputs": [],
   "source": []
  },
  {
   "cell_type": "code",
   "execution_count": null,
   "metadata": {},
   "outputs": [],
   "source": []
  },
  {
   "cell_type": "code",
   "execution_count": null,
   "metadata": {},
   "outputs": [],
   "source": []
  },
  {
   "cell_type": "code",
   "execution_count": null,
   "metadata": {},
   "outputs": [],
   "source": []
  },
  {
   "cell_type": "code",
   "execution_count": null,
   "metadata": {},
   "outputs": [],
   "source": []
  }
 ],
 "metadata": {
  "colab": {
   "provenance": []
  },
  "kernelspec": {
   "display_name": "Python 3",
   "language": "python",
   "name": "python3"
  },
  "language_info": {
   "codemirror_mode": {
    "name": "ipython",
    "version": 3
   },
   "file_extension": ".py",
   "mimetype": "text/x-python",
   "name": "python",
   "nbconvert_exporter": "python",
   "pygments_lexer": "ipython3",
   "version": "3.8.5"
  }
 },
 "nbformat": 4,
 "nbformat_minor": 4
}
